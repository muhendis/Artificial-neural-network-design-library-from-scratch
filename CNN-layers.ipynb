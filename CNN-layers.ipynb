{
 "cells": [
  {
   "cell_type": "code",
   "execution_count": 200,
   "metadata": {},
   "outputs": [],
   "source": [
    "# n giriş resim boyutu\n",
    "# f filtre boyutu\n",
    "\n",
    "#padding(p) =piksel ekleme,dış çerçeveye \n",
    "#stride(s) = kaydırma adımı,ne kadar küçük ise o kadar iyi\n",
    "# Eğer çıkış matrisi ile giriş matrisini eşit tutmak istiyorsanız padding artarsa stride da artmalı\n",
    "# pooling(p) = ortaklama denir. böylece filtre boyutu azaltılır. (bazen havuzlama denir)    \n",
    "# pooling deki filtre f dir. p ve s parametreleri kullanılarak giriş matrisinin boyutu azalır\n",
    "def conv(stride=1,\n",
    "        padding=True,\n",
    "         padding_method={\"dış çerçeveden ekle(opsiyonel)\",\"sıfır ekle\"},\n",
    "        ): pass\n",
    "    # ( (n+2p-f)/s) + 1) x ( (n+2p-f)/s) + 1)\n",
    "    # p = (f-1)/2 ye göre seç ki girdi matrisi ile çıkanın boyu aynı olsun\n"
   ]
  },
  {
   "cell_type": "code",
   "execution_count": 201,
   "metadata": {},
   "outputs": [],
   "source": [
    "import numpy as np"
   ]
  },
  {
   "cell_type": "code",
   "execution_count": 202,
   "metadata": {},
   "outputs": [
    {
     "data": {
      "text/plain": [
       "array([[1, 2, 4],\n",
       "       [1, 2, 4]])"
      ]
     },
     "execution_count": 202,
     "metadata": {},
     "output_type": "execute_result"
    }
   ],
   "source": [
    "a = np.array([[1,2,4],[1,2,4]])\n",
    "a"
   ]
  },
  {
   "cell_type": "code",
   "execution_count": 203,
   "metadata": {},
   "outputs": [
    {
     "data": {
      "text/plain": [
       "array([[1, 1],\n",
       "       [1, 1]])"
      ]
     },
     "execution_count": 203,
     "metadata": {},
     "output_type": "execute_result"
    }
   ],
   "source": [
    "b = np.array([[1,1],[1,1]])\n",
    "b"
   ]
  },
  {
   "cell_type": "code",
   "execution_count": 204,
   "metadata": {},
   "outputs": [],
   "source": [
    "def conv_valid(input_matrix,\n",
    "               kernel):\n",
    "    \n",
    "    '''\n",
    "    [[1,2],   *(conv)  [[1,1],\n",
    "     [1,2]]             [1,1]]       =  6\n",
    "    '''\n",
    "    \n",
    "    row,column= kernel.shape\n",
    "    \n",
    "    result=0\n",
    "    \n",
    "    for i in range(row):\n",
    "        \n",
    "        for j in range(column):\n",
    "            \n",
    "            result+=kernel[i,j]*input_matrix[i,j]\n",
    "            \n",
    "    return(result)\n",
    "            "
   ]
  },
  {
   "cell_type": "code",
   "execution_count": 205,
   "metadata": {},
   "outputs": [
    {
     "data": {
      "text/plain": [
       "12"
      ]
     },
     "execution_count": 205,
     "metadata": {},
     "output_type": "execute_result"
    }
   ],
   "source": [
    "conv_valid(a[0:2,1:3],b)"
   ]
  },
  {
   "cell_type": "code",
   "execution_count": 206,
   "metadata": {},
   "outputs": [],
   "source": [
    "def padding(matrix:np.array,\n",
    "            \n",
    "            method=\"none\",\n",
    "            \n",
    "            p = 0 ):\n",
    "    \n",
    "    \n",
    "    row,column= matrix.shape\n",
    "    \n",
    "    \n",
    "    if method==\"none\":\n",
    "        \n",
    "        padding_matrix = matrix\n",
    "        \n",
    "    \n",
    "    elif method==\"zero\":\n",
    "               \n",
    "        zero_matrix = np.full((row+2*p, column+2*p), 0)\n",
    "        \n",
    "        zero_matrix[ p : -p ,  p : -p ] = matrix \n",
    "        \n",
    "        padding_matrix = zero_matrix\n",
    "        \n",
    "        \n",
    "    elif method==\"from the frame\":\n",
    "        \n",
    "                \n",
    "        zero_matrix =np.full((row+2*p, column+2*p), 0)\n",
    "        \n",
    "        zero_matrix[p:-p,p:-p] = matrix\n",
    "        \n",
    "        \n",
    "        for i in range(p):\n",
    "    \n",
    "                zero_matrix[i ,p:p+column] = matrix[p-i-1,:] #upside\n",
    "    \n",
    "                zero_matrix[i-p ,p:p+column] = matrix[-i-1,:] #underside\n",
    "    \n",
    "                zero_matrix[p:p+row,i] = matrix[:,p-i-1] #left side\n",
    "    \n",
    "                zero_matrix[p:p+row,-(i+1)] = matrix[:,-(p-i)] #right side\n",
    "        \n",
    "        \n",
    "        zero_matrix[0:p,0:p]=zero_matrix[0:p,p].reshape(-1,1) #upper left corner\n",
    "\n",
    "        zero_matrix[0:p,-p:]=zero_matrix[0:p,-(p+1)].reshape(-1,1) #upper right corner\n",
    "\n",
    "        zero_matrix[-p:,0:p]=zero_matrix[-p:,p].reshape(-1,1) #lower left corner\n",
    "\n",
    "        zero_matrix[-p:,-p:]=zero_matrix[-p:,-(p+1)].reshape(-1,1) #lower right corner\n",
    "        \n",
    "        padding_matrix = zero_matrix\n",
    "        \n",
    "    \n",
    "    return(padding_matrix)\n",
    "    \n",
    "    "
   ]
  },
  {
   "cell_type": "code",
   "execution_count": 207,
   "metadata": {},
   "outputs": [
    {
     "data": {
      "text/plain": [
       "array([[ 0,  0,  0,  0,  0,  0,  0],\n",
       "       [ 0,  0,  0,  0,  0,  0,  0],\n",
       "       [ 0,  0,  1, 20, -3,  0,  0],\n",
       "       [ 0,  0,  1,  2,  3,  0,  0],\n",
       "       [ 0,  0,  0,  0,  0,  0,  0],\n",
       "       [ 0,  0,  0,  0,  0,  0,  0]])"
      ]
     },
     "execution_count": 207,
     "metadata": {},
     "output_type": "execute_result"
    }
   ],
   "source": [
    "a = np.array([[1,20,-3],[1,2,3]])\n",
    "padding(a,method=\"zero\",p=2)"
   ]
  },
  {
   "cell_type": "code",
   "execution_count": 208,
   "metadata": {},
   "outputs": [
    {
     "data": {
      "text/plain": [
       "array([[ 1,  1,  1,  2,  3,  3,  3],\n",
       "       [ 1,  1,  1, 20, -3, -3, -3],\n",
       "       [20,  1,  1, 20, -3, -3, 20],\n",
       "       [ 2,  1,  1,  2,  3,  3,  2],\n",
       "       [ 1,  1,  1,  2,  3,  3,  3],\n",
       "       [ 1,  1,  1, 20, -3, -3, -3]])"
      ]
     },
     "execution_count": 208,
     "metadata": {},
     "output_type": "execute_result"
    }
   ],
   "source": [
    "a = np.array([[1,20,-3],[1,2,3]])\n",
    "padding(a,method=\"from the frame\",p=2)"
   ]
  },
  {
   "cell_type": "code",
   "execution_count": 209,
   "metadata": {},
   "outputs": [],
   "source": [
    "def pooling(matrix,method=\"mean\"):\n",
    "    \n",
    "    row ,column = matrix.shape\n",
    "    \n",
    "    matrix_reshape = np.reshape(matrix,row*column)\n",
    "    \n",
    "    if method==\"max\":\n",
    "        \n",
    "        result=np.max(matrix_reshape)\n",
    "        \n",
    "    elif method==\"min\":\n",
    "        \n",
    "        result=np.min(matrix_reshape)\n",
    "        \n",
    "    elif method==\"median\":\n",
    "        \n",
    "        result=np.median(matrix_reshape)\n",
    "        \n",
    "    elif method==\"mean\":\n",
    "        \n",
    "        result=np.mean(matrix_reshape)\n",
    "        \n",
    "    \n",
    "    return(result)\n",
    "    "
   ]
  },
  {
   "cell_type": "code",
   "execution_count": 210,
   "metadata": {},
   "outputs": [
    {
     "data": {
      "text/plain": [
       "4.0"
      ]
     },
     "execution_count": 210,
     "metadata": {},
     "output_type": "execute_result"
    }
   ],
   "source": [
    "pooling(a)"
   ]
  },
  {
   "cell_type": "code",
   "execution_count": 211,
   "metadata": {},
   "outputs": [
    {
     "data": {
      "text/plain": [
       "20"
      ]
     },
     "execution_count": 211,
     "metadata": {},
     "output_type": "execute_result"
    }
   ],
   "source": [
    "pooling(a,method=\"max\")"
   ]
  },
  {
   "cell_type": "code",
   "execution_count": 212,
   "metadata": {},
   "outputs": [
    {
     "data": {
      "text/plain": [
       "4.0"
      ]
     },
     "execution_count": 212,
     "metadata": {},
     "output_type": "execute_result"
    }
   ],
   "source": [
    "pooling(a,method=\"mean\")"
   ]
  },
  {
   "cell_type": "code",
   "execution_count": 213,
   "metadata": {},
   "outputs": [
    {
     "data": {
      "text/plain": [
       "-3"
      ]
     },
     "execution_count": 213,
     "metadata": {},
     "output_type": "execute_result"
    }
   ],
   "source": [
    "pooling(a,method=\"min\")"
   ]
  },
  {
   "cell_type": "code",
   "execution_count": 215,
   "metadata": {},
   "outputs": [],
   "source": [
    "def conv(input_matrix,\n",
    "         kernel,\n",
    "        stride=1,\n",
    "        padding_method=\"none\",\n",
    "        padding_number=1):pass\n",
    "    \n",
    "    \n",
    "    \n",
    "        \n",
    "        "
   ]
  }
 ],
 "metadata": {
  "kernelspec": {
   "display_name": "Python 3",
   "language": "python",
   "name": "python3"
  },
  "language_info": {
   "codemirror_mode": {
    "name": "ipython",
    "version": 3
   },
   "file_extension": ".py",
   "mimetype": "text/x-python",
   "name": "python",
   "nbconvert_exporter": "python",
   "pygments_lexer": "ipython3",
   "version": "3.6.5"
  }
 },
 "nbformat": 4,
 "nbformat_minor": 2
}
